{
 "cells": [
  {
   "cell_type": "code",
   "execution_count": 72,
   "metadata": {},
   "outputs": [
    {
     "data": {
      "text/plain": [
       "'\\nCreated on Mon Oct 23 11:26:59 2017\\n\\n@author: amajidsinar\\n'"
      ]
     },
     "execution_count": 72,
     "metadata": {},
     "output_type": "execute_result"
    }
   ],
   "source": [
    "#!/usr/bin/env python3\n",
    "# -*- coding: utf-8 -*-\n",
    "\"\"\"\n",
    "Created on Mon Oct 23 11:26:59 2017\n",
    "\n",
    "@author: amajidsinar\n",
    "\"\"\"\n",
    "\n",
    "# This is my attempt to create a 2 layer NN (only input and output layer) from scratch \n",
    "# Output neuron is Softmax\n",
    "# Loss is Cross-Entropy"
   ]
  },
  {
   "cell_type": "code",
   "execution_count": 73,
   "metadata": {
    "collapsed": true
   },
   "outputs": [],
   "source": [
    "import numpy as np\n",
    "import pandas as pd"
   ]
  },
  {
   "cell_type": "code",
   "execution_count": 74,
   "metadata": {
    "collapsed": true
   },
   "outputs": [],
   "source": [
    "# make sure random number is deterministic\n",
    "np.random.seed(1)"
   ]
  },
  {
   "cell_type": "code",
   "execution_count": 75,
   "metadata": {
    "collapsed": true
   },
   "outputs": [],
   "source": [
    "dataset = pd.read_csv(\"Dataset/fashion-mnist_train.csv\")\n",
    "\n",
    "y = dataset.iloc[:,0].values\n",
    "X = dataset.iloc[:,1:].values\n",
    "\n",
    "X = X / 255 "
   ]
  },
  {
   "cell_type": "code",
   "execution_count": 76,
   "metadata": {
    "collapsed": true
   },
   "outputs": [],
   "source": [
    "# one hot encoding\n",
    "# label = set of y\n",
    "label = set(y)\n",
    "# one hot encoder is a big diagonal matrix\n",
    "label = np.eye((len(label)))\n",
    "# convert y into one hot encoding\n",
    "y = label[y]"
   ]
  },
  {
   "cell_type": "code",
   "execution_count": 1,
   "metadata": {
    "collapsed": true
   },
   "outputs": [],
   "source": [
    "# training!\n",
    "\n",
    "# sigmoid\n",
    "def softmax(z):\n",
    "    return np.exp(z)/np.sum(np.exp(z))\n",
    "\n",
    "#def softmax_gradient(z):\n",
    "#    return sigmoid(z) * (1-sigmoid(z))"
   ]
  },
  {
   "cell_type": "code",
   "execution_count": 78,
   "metadata": {
    "collapsed": true
   },
   "outputs": [],
   "source": [
    "# parameter initialization\n",
    "\n",
    "alpha = 0.4\n",
    "batch = 10000\n",
    "minibatch = 64\n",
    "\n",
    "a0 = X \n",
    "\n",
    "# zero mean and unit variance -- a good practice\n",
    "w1 = np.random.randn(a0.shape[1],y.shape[1])"
   ]
  },
  {
   "cell_type": "markdown",
   "metadata": {},
   "source": [
    "# Cost function\n",
    "\n",
    "\n",
    "Cross entropy\n",
    "\\begin{align}\n",
    "C=-\\frac{1}{n}\\sum[ylna+1-yln(1-a] \\\\\n",
    "\\frac{\\partial C}{\\partial a^L} = \\frac{a-y}{a(a-a)}\n",
    "\\end{align}\n",
    "\n",
    "\n",
    "# Output layer\n",
    "\n",
    "\n",
    "Softmax\n",
    "\\begin{align}\n",
    "a^L = \\frac{e^{{z}^{L}}} {\\sum e^{{z}^{L}}}  \n",
    "\\end{align}\n",
    "\n",
    "\n",
    "\n",
    "# What we truly use here\n",
    "\n",
    "\n",
    "Error of neuron in the output(last) layer relative to activated output (in matrix form)\n",
    "\n",
    "\\begin{align}\n",
    "\\delta^L = \\frac{\\partial C}{\\partial a^L} f'(z^L)\n",
    "\\end{align}\n",
    "\n",
    "Backpropagation (with minibatch)\n",
    "\\begin{align}\n",
    "w \\Rightarrow w' = w - \\frac{\\eta}{m} \\frac{\\partial C}{\\partial w}\n",
    "\\end{align}\n",
    "\n",
    "Rate of change of the cost with respect to any weight\n",
    "\\begin{align}\n",
    "\\frac{\\partial C}{\\partial w^L} = a^{L-1}\\partial^L\n",
    "\\end{align}\n"
   ]
  },
  {
   "cell_type": "code",
   "execution_count": null,
   "metadata": {
    "collapsed": true
   },
   "outputs": [],
   "source": [
    "#for i in range(batch):\n",
    "#    z1 = np.dot(a0,w1)\n",
    "#    a1 = sigmoid(z1)\n",
    "#    C=(a1-y)**2/(2*batch)\n",
    "#    err1 = C*sigmoid_prime(z1)\n",
    "#    w1 -= alpha * np.dot(a0.T,err1)"
   ]
  },
  {
   "cell_type": "code",
   "execution_count": null,
   "metadata": {
    "collapsed": true
   },
   "outputs": [],
   "source": [
    "for i in range(batch):\n",
    "    mini = np.random.randint(0,a0.shape[0],minibatch)\n",
    "    a0=a0[mini]\n",
    "    y=y[mini]\n",
    "    z1 = np.dot(a0,w1)\n",
    "    a1 = softmax(z1)\n",
    "    err1 = ((a1-y)/minibatch)*softmax_gradient(z1)\n",
    "    w1 -= alpha * np.dot(a0.T,err1)"
   ]
  },
  {
   "cell_type": "code",
   "execution_count": null,
   "metadata": {
    "collapsed": true
   },
   "outputs": [],
   "source": [
    "# testing!\n",
    "    \n",
    "y_predict = np.dot(a0,w1)"
   ]
  }
 ],
 "metadata": {
  "kernelspec": {
   "display_name": "Python 3",
   "language": "python",
   "name": "python3"
  },
  "language_info": {
   "codemirror_mode": {
    "name": "ipython",
    "version": 3
   },
   "file_extension": ".py",
   "mimetype": "text/x-python",
   "name": "python",
   "nbconvert_exporter": "python",
   "pygments_lexer": "ipython3",
   "version": "3.5.4"
  }
 },
 "nbformat": 4,
 "nbformat_minor": 2
}
