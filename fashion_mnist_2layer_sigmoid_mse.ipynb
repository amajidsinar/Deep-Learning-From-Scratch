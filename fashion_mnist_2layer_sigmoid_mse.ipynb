{
 "cells": [
  {
   "cell_type": "code",
   "execution_count": 72,
   "metadata": {},
   "outputs": [
    {
     "data": {
      "text/plain": [
       "'\\nCreated on Mon Oct 23 11:26:59 2017\\n\\n@author: amajidsinar\\n'"
      ]
     },
     "execution_count": 72,
     "metadata": {},
     "output_type": "execute_result"
    }
   ],
   "source": [
    "#!/usr/bin/env python3\n",
    "# -*- coding: utf-8 -*-\n",
    "\"\"\"\n",
    "Created on Mon Oct 23 11:26:59 2017\n",
    "\n",
    "@author: amajidsinar\n",
    "\"\"\"\n",
    "\n",
    "# This is my attempt to create a 2 layer NN (only input and output layer) from scratch \n",
    "# Output neuron is sigmoid\n",
    "# Loss is MSE"
   ]
  },
  {
   "cell_type": "code",
   "execution_count": 73,
   "metadata": {
    "collapsed": true
   },
   "outputs": [],
   "source": [
    "import numpy as np\n",
    "import pandas as pd"
   ]
  },
  {
   "cell_type": "code",
   "execution_count": 74,
   "metadata": {
    "collapsed": true
   },
   "outputs": [],
   "source": [
    "# make sure random number is deterministic\n",
    "np.random.seed(1)"
   ]
  },
  {
   "cell_type": "code",
   "execution_count": 75,
   "metadata": {
    "collapsed": true
   },
   "outputs": [],
   "source": [
    "dataset = pd.read_csv(\"Dataset/fashion-mnist_train.csv\")\n",
    "\n",
    "y = dataset.iloc[:,0].values\n",
    "X = dataset.iloc[:,1:].values\n",
    "\n",
    "X = X / 255 "
   ]
  },
  {
   "cell_type": "code",
   "execution_count": 76,
   "metadata": {
    "collapsed": true
   },
   "outputs": [],
   "source": [
    "# one hot encoding\n",
    "# label = set of y\n",
    "label = set(y)\n",
    "# one hot encoder is a big diagonal matrix\n",
    "label = np.eye((len(label)))\n",
    "# convert y into one hot encoding\n",
    "y = label[y]"
   ]
  },
  {
   "cell_type": "code",
   "execution_count": 77,
   "metadata": {
    "collapsed": true
   },
   "outputs": [],
   "source": [
    "# training!\n",
    "\n",
    "# sigmoid\n",
    "def sigmoid(z):\n",
    "    return 1/(1+np.exp(-z))\n",
    "\n",
    "def sigmoid_prime(z):\n",
    "    return sigmoid(z) * (1-sigmoid(z))"
   ]
  },
  {
   "cell_type": "code",
   "execution_count": 78,
   "metadata": {
    "collapsed": true
   },
   "outputs": [],
   "source": [
    "# parameter initialization\n",
    "\n",
    "alpha = 0.4\n",
    "batch = 10000\n",
    "minibatch = 64\n",
    "\n",
    "a0 = X \n",
    "\n",
    "# zero mean and unit variance -- a good practice\n",
    "w1 = np.random.randn(a0.shape[1],y.shape[1])"
   ]
  },
  {
   "cell_type": "markdown",
   "metadata": {},
   "source": [
    "\n",
    "# Every equations of neural nets\n",
    "\n",
    "Error of neuron in layer L\n",
    "\n",
    "\\begin{align}\n",
    "\\delta^L = \\frac{\\partial C}{\\partial z^L}\n",
    "\\end{align}\n",
    "\n",
    "Error of neuron in the output layer relative to activated output (in equation form)\n",
    "\\begin{align}\n",
    "\\delta^L = \\frac{\\partial C}{\\partial a^L} f'(z^L)\n",
    "\\end{align}\n",
    "\n",
    "Fundamental Equations of Neural Nets\n",
    "\n",
    "Backpropagation\n",
    "\\begin{align}\n",
    "w \\Rightarrow w' = w - \\eta \\frac{\\partial C}{\\partial w} \\\\\n",
    "b \\Rightarrow b' = b - \\eta \\frac{\\partial C}{\\partial b}\n",
    "\\end{align}\n",
    "\n",
    "\n",
    "Error of neuron in the output(last) layer relative to activated output (in matrix form)\n",
    "\\begin{align}\n",
    "\\delta^L = (a^L-y) \\odot f'(z^L)\n",
    "\\end{align}\n",
    "\n",
    "Error of neuron in terms of the error in the previous layer\n",
    "\\begin{align}\n",
    "\\delta^{L-1} = ((w^L)^T)\\delta^L \\odot f'(z^{L-1})\n",
    "\\end{align}\n",
    "\n",
    "Rate of change of the cost with respect to any weight\n",
    "\\begin{align}\n",
    "\\frac{\\partial C}{\\partial w^L} = a^{L-1}\\partial^L\n",
    "\\end{align}\n",
    "\n",
    "Rate of change of the cost with respect to any bias\n",
    "\n",
    "\\begin{align}\n",
    "\\frac{\\partial C}{\\partial b^L} = \\partial^L\n",
    "\\end{align}\n",
    "\n",
    "\n",
    "Mean Square Error Cost Function\n",
    "\n",
    "\\begin{align}\n",
    "C(w,b)=\\frac{1}{2n}\\sum|y-a|^2\n",
    "\\end{align}\n",
    "\n",
    "\n",
    "# What we truly use here\n",
    "\n",
    "Error of neuron in the output(last) layer relative to activated output (in matrix form)\n",
    "\n",
    "\\begin{align}\n",
    "\\delta^L = (a^L-y) \\odot f'(z^L)\n",
    "\\end{align}\n",
    "\n",
    "Backpropagation\n",
    "\\begin{align}\n",
    "w \\Rightarrow w' = w - \\eta \\frac{\\partial C}{\\partial w}\n",
    "\\end{align}\n",
    "\n",
    "Rate of change of the cost with respect to any weight\n",
    "\\begin{align}\n",
    "\\frac{\\partial C}{\\partial w^L} = a^{L-1}\\partial^L\n",
    "\\end{align}"
   ]
  },
  {
   "cell_type": "code",
   "execution_count": null,
   "metadata": {
    "collapsed": true
   },
   "outputs": [],
   "source": [
    "#for i in range(batch):\n",
    "#    z1 = np.dot(a0,w1)\n",
    "#    a1 = sigmoid(z1)\n",
    "#    C=(a1-y)**2/(2*batch)\n",
    "#    err1 = C*sigmoid_prime(z1)\n",
    "#    w1 -= alpha * np.dot(a0.T,err1)"
   ]
  },
  {
   "cell_type": "code",
   "execution_count": null,
   "metadata": {
    "collapsed": true
   },
   "outputs": [],
   "source": [
    "for i in range(batch):\n",
    "    mini = np.random.randint(0,a0.shape[0],minibatch)\n",
    "    a0=a0[mini]\n",
    "    y=y[mini]\n",
    "    z1 = np.dot(a0,w1)\n",
    "    a1 = sigmoid(z1)\n",
    "    C=(a1-y)**2/(2*minibatch)\n",
    "    err1 = C*sigmoid_prime(z1)\n",
    "    w1 -= alpha * np.dot(a0.T,err1)"
   ]
  },
  {
   "cell_type": "code",
   "execution_count": null,
   "metadata": {
    "collapsed": true
   },
   "outputs": [],
   "source": [
    "# testing!\n",
    "    \n",
    "y_predict = np.dot(a0,w1)"
   ]
  }
 ],
 "metadata": {
  "kernelspec": {
   "display_name": "Python 3",
   "language": "python",
   "name": "python3"
  },
  "language_info": {
   "codemirror_mode": {
    "name": "ipython",
    "version": 3
   },
   "file_extension": ".py",
   "mimetype": "text/x-python",
   "name": "python",
   "nbconvert_exporter": "python",
   "pygments_lexer": "ipython3",
   "version": "3.5.4"
  }
 },
 "nbformat": 4,
 "nbformat_minor": 2
}
